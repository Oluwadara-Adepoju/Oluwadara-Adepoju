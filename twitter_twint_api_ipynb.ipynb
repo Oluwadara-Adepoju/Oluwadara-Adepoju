{
  "nbformat": 4,
  "nbformat_minor": 0,
  "metadata": {
    "colab": {
      "name": "twitter_twint api_ipynb",
      "provenance": [],
      "collapsed_sections": [],
      "authorship_tag": "ABX9TyNNbdbdP59NpF57r/9icRPk",
      "include_colab_link": true
    },
    "kernelspec": {
      "name": "python3",
      "display_name": "Python 3"
    },
    "language_info": {
      "name": "python"
    }
  },
  "cells": [
    {
      "cell_type": "markdown",
      "metadata": {
        "id": "view-in-github",
        "colab_type": "text"
      },
      "source": [
        "<a href=\"https://colab.research.google.com/github/Oluwadara-Adepoju/Oluwadara-Adepoju/blob/main/twitter_twint_api_ipynb.ipynb\" target=\"_parent\"><img src=\"https://colab.research.google.com/assets/colab-badge.svg\" alt=\"Open In Colab\"/></a>"
      ]
    },
    {
      "cell_type": "markdown",
      "metadata": {
        "id": "mPklKRIwTqPB"
      },
      "source": [
        "#Using twint to extract tweets or keywords "
      ]
    },
    {
      "cell_type": "markdown",
      "metadata": {
        "id": "PDZobptlR6Se"
      },
      "source": [
        "Hi there, Everyone! data collection is one of the key and essential steps in Data science and one platform that is a huge source of information is Twitter. Twitter Api comes with restriction. I discovered twint which helps you scrape data without the hassle of Twitter user aunthentication and verification."
      ]
    },
    {
      "cell_type": "markdown",
      "metadata": {
        "id": "luTGuvAWM_z_"
      },
      "source": [
        "# **Installing the package.**\n",
        "After installing twint, It is also essential to install nest_ascycio if it is not availiable on your local machine.Next we import the package."
      ]
    },
    {
      "cell_type": "code",
      "metadata": {
        "colab": {
          "base_uri": "https://localhost:8080/",
          "height": 1000
        },
        "id": "wRCFzNLvBaCf",
        "outputId": "2dcf0d2e-b438-4797-c9cc-34f7ad00b21a"
      },
      "source": [
        "!pip install twint# install twint using this code\n",
        "#you can also use the one below\n",
        "!pip3 install --user --upgrade git+https://github.com/twintproject/twint.git@origin/master#egg=twint \n",
        "import twint\n",
        "import nest_asyncio\n",
        "c = twint.Config()\n"
      ],
      "execution_count": null,
      "outputs": [
        {
          "output_type": "stream",
          "text": [
            "Requirement already satisfied: twint in /usr/local/lib/python3.7/dist-packages (2.1.21)\n",
            "Requirement already satisfied: pysocks in /usr/local/lib/python3.7/dist-packages (from twint) (1.7.1)\n",
            "Requirement already satisfied: dataclasses in /usr/local/lib/python3.7/dist-packages (from twint) (0.6)\n",
            "Requirement already satisfied: geopy in /usr/local/lib/python3.7/dist-packages (from twint) (1.17.0)\n",
            "Requirement already satisfied: elasticsearch in /usr/local/lib/python3.7/dist-packages (from twint) (7.12.1)\n",
            "Requirement already satisfied: aiohttp-socks in /usr/local/lib/python3.7/dist-packages (from twint) (0.6.0)\n",
            "Requirement already satisfied: beautifulsoup4 in /usr/local/lib/python3.7/dist-packages (from twint) (4.6.3)\n",
            "Requirement already satisfied: googletransx in /usr/local/lib/python3.7/dist-packages (from twint) (2.4.2)\n",
            "Requirement already satisfied: fake-useragent in /usr/local/lib/python3.7/dist-packages (from twint) (0.1.11)\n",
            "Requirement already satisfied: aiodns in /usr/local/lib/python3.7/dist-packages (from twint) (2.0.0)\n",
            "Requirement already satisfied: cchardet in /usr/local/lib/python3.7/dist-packages (from twint) (2.1.7)\n",
            "Requirement already satisfied: aiohttp in /usr/local/lib/python3.7/dist-packages (from twint) (3.7.4.post0)\n",
            "Requirement already satisfied: schedule in /usr/local/lib/python3.7/dist-packages (from twint) (1.1.0)\n",
            "Requirement already satisfied: pandas in /usr/local/lib/python3.7/dist-packages (from twint) (1.1.5)\n",
            "Requirement already satisfied: geographiclib<2,>=1.49 in /usr/local/lib/python3.7/dist-packages (from geopy->twint) (1.50)\n",
            "Requirement already satisfied: certifi in /usr/local/lib/python3.7/dist-packages (from elasticsearch->twint) (2020.12.5)\n",
            "Requirement already satisfied: urllib3<2,>=1.21.1 in /usr/local/lib/python3.7/dist-packages (from elasticsearch->twint) (1.24.3)\n",
            "Requirement already satisfied: attrs>=19.2.0 in /usr/local/lib/python3.7/dist-packages (from aiohttp-socks->twint) (21.2.0)\n",
            "Requirement already satisfied: python-socks[asyncio]>=1.2.2 in /usr/local/lib/python3.7/dist-packages (from aiohttp-socks->twint) (1.2.4)\n",
            "Requirement already satisfied: requests in /usr/local/lib/python3.7/dist-packages (from googletransx->twint) (2.23.0)\n",
            "Requirement already satisfied: pycares>=3.0.0 in /usr/local/lib/python3.7/dist-packages (from aiodns->twint) (4.0.0)\n",
            "Requirement already satisfied: chardet<5.0,>=2.0 in /usr/local/lib/python3.7/dist-packages (from aiohttp->twint) (3.0.4)\n",
            "Requirement already satisfied: yarl<2.0,>=1.0 in /usr/local/lib/python3.7/dist-packages (from aiohttp->twint) (1.6.3)\n",
            "Requirement already satisfied: async-timeout<4.0,>=3.0 in /usr/local/lib/python3.7/dist-packages (from aiohttp->twint) (3.0.1)\n",
            "Requirement already satisfied: typing-extensions>=3.6.5 in /usr/local/lib/python3.7/dist-packages (from aiohttp->twint) (3.7.4.3)\n",
            "Requirement already satisfied: multidict<7.0,>=4.5 in /usr/local/lib/python3.7/dist-packages (from aiohttp->twint) (5.1.0)\n",
            "Requirement already satisfied: pytz>=2017.2 in /usr/local/lib/python3.7/dist-packages (from pandas->twint) (2018.9)\n",
            "Requirement already satisfied: python-dateutil>=2.7.3 in /usr/local/lib/python3.7/dist-packages (from pandas->twint) (2.8.1)\n",
            "Requirement already satisfied: numpy>=1.15.4 in /usr/local/lib/python3.7/dist-packages (from pandas->twint) (1.19.5)\n",
            "Requirement already satisfied: idna<3,>=2.5 in /usr/local/lib/python3.7/dist-packages (from requests->googletransx->twint) (2.10)\n",
            "Requirement already satisfied: cffi>=1.5.0 in /usr/local/lib/python3.7/dist-packages (from pycares>=3.0.0->aiodns->twint) (1.14.5)\n",
            "Requirement already satisfied: six>=1.5 in /usr/local/lib/python3.7/dist-packages (from python-dateutil>=2.7.3->pandas->twint) (1.15.0)\n",
            "Requirement already satisfied: pycparser in /usr/local/lib/python3.7/dist-packages (from cffi>=1.5.0->pycares>=3.0.0->aiodns->twint) (2.20)\n",
            "Collecting twint\n",
            "  Cloning https://github.com/twintproject/twint.git (to revision origin/master) to /tmp/pip-install-np3qdkqm/twint\n",
            "  Running command git clone -q https://github.com/twintproject/twint.git /tmp/pip-install-np3qdkqm/twint\n",
            "\u001b[33m  WARNING: Did not find branch or tag 'origin/master', assuming revision or ref.\u001b[0m\n",
            "  Running command git checkout -q origin/master\n",
            "Requirement already satisfied, skipping upgrade: aiohttp in /usr/local/lib/python3.7/dist-packages (from twint) (3.7.4.post0)\n",
            "Requirement already satisfied, skipping upgrade: aiodns in /usr/local/lib/python3.7/dist-packages (from twint) (2.0.0)\n",
            "Requirement already satisfied, skipping upgrade: beautifulsoup4 in /usr/local/lib/python3.7/dist-packages (from twint) (4.6.3)\n",
            "Requirement already satisfied, skipping upgrade: cchardet in /usr/local/lib/python3.7/dist-packages (from twint) (2.1.7)\n",
            "Requirement already satisfied, skipping upgrade: dataclasses in /usr/local/lib/python3.7/dist-packages (from twint) (0.6)\n",
            "Requirement already satisfied, skipping upgrade: elasticsearch in /usr/local/lib/python3.7/dist-packages (from twint) (7.12.1)\n",
            "Requirement already satisfied, skipping upgrade: pysocks in /usr/local/lib/python3.7/dist-packages (from twint) (1.7.1)\n",
            "Requirement already satisfied, skipping upgrade: pandas in /usr/local/lib/python3.7/dist-packages (from twint) (1.1.5)\n",
            "Requirement already satisfied, skipping upgrade: aiohttp_socks in /usr/local/lib/python3.7/dist-packages (from twint) (0.6.0)\n",
            "Requirement already satisfied, skipping upgrade: schedule in /usr/local/lib/python3.7/dist-packages (from twint) (1.1.0)\n",
            "Requirement already satisfied, skipping upgrade: geopy in /usr/local/lib/python3.7/dist-packages (from twint) (1.17.0)\n",
            "Requirement already satisfied, skipping upgrade: fake-useragent in /usr/local/lib/python3.7/dist-packages (from twint) (0.1.11)\n",
            "Requirement already satisfied, skipping upgrade: googletransx in /usr/local/lib/python3.7/dist-packages (from twint) (2.4.2)\n",
            "Requirement already satisfied, skipping upgrade: multidict<7.0,>=4.5 in /usr/local/lib/python3.7/dist-packages (from aiohttp->twint) (5.1.0)\n",
            "Requirement already satisfied, skipping upgrade: attrs>=17.3.0 in /usr/local/lib/python3.7/dist-packages (from aiohttp->twint) (21.2.0)\n",
            "Requirement already satisfied, skipping upgrade: typing-extensions>=3.6.5 in /usr/local/lib/python3.7/dist-packages (from aiohttp->twint) (3.7.4.3)\n",
            "Requirement already satisfied, skipping upgrade: chardet<5.0,>=2.0 in /usr/local/lib/python3.7/dist-packages (from aiohttp->twint) (3.0.4)\n",
            "Requirement already satisfied, skipping upgrade: async-timeout<4.0,>=3.0 in /usr/local/lib/python3.7/dist-packages (from aiohttp->twint) (3.0.1)\n",
            "Requirement already satisfied, skipping upgrade: yarl<2.0,>=1.0 in /usr/local/lib/python3.7/dist-packages (from aiohttp->twint) (1.6.3)\n",
            "Requirement already satisfied, skipping upgrade: pycares>=3.0.0 in /usr/local/lib/python3.7/dist-packages (from aiodns->twint) (4.0.0)\n",
            "Requirement already satisfied, skipping upgrade: urllib3<2,>=1.21.1 in /usr/local/lib/python3.7/dist-packages (from elasticsearch->twint) (1.24.3)\n",
            "Requirement already satisfied, skipping upgrade: certifi in /usr/local/lib/python3.7/dist-packages (from elasticsearch->twint) (2020.12.5)\n",
            "Requirement already satisfied, skipping upgrade: python-dateutil>=2.7.3 in /usr/local/lib/python3.7/dist-packages (from pandas->twint) (2.8.1)\n",
            "Requirement already satisfied, skipping upgrade: numpy>=1.15.4 in /usr/local/lib/python3.7/dist-packages (from pandas->twint) (1.19.5)\n",
            "Requirement already satisfied, skipping upgrade: pytz>=2017.2 in /usr/local/lib/python3.7/dist-packages (from pandas->twint) (2018.9)\n",
            "Requirement already satisfied, skipping upgrade: python-socks[asyncio]>=1.2.2 in /usr/local/lib/python3.7/dist-packages (from aiohttp_socks->twint) (1.2.4)\n",
            "Requirement already satisfied, skipping upgrade: geographiclib<2,>=1.49 in /usr/local/lib/python3.7/dist-packages (from geopy->twint) (1.50)\n",
            "Requirement already satisfied, skipping upgrade: requests in /usr/local/lib/python3.7/dist-packages (from googletransx->twint) (2.23.0)\n",
            "Requirement already satisfied, skipping upgrade: idna>=2.0 in /usr/local/lib/python3.7/dist-packages (from yarl<2.0,>=1.0->aiohttp->twint) (2.10)\n",
            "Requirement already satisfied, skipping upgrade: cffi>=1.5.0 in /usr/local/lib/python3.7/dist-packages (from pycares>=3.0.0->aiodns->twint) (1.14.5)\n",
            "Requirement already satisfied, skipping upgrade: six>=1.5 in /usr/local/lib/python3.7/dist-packages (from python-dateutil>=2.7.3->pandas->twint) (1.15.0)\n",
            "Requirement already satisfied, skipping upgrade: pycparser in /usr/local/lib/python3.7/dist-packages (from cffi>=1.5.0->pycares>=3.0.0->aiodns->twint) (2.20)\n",
            "Building wheels for collected packages: twint\n",
            "  Building wheel for twint (setup.py) ... \u001b[?25l\u001b[?25hdone\n",
            "  Created wheel for twint: filename=twint-2.1.21-cp37-none-any.whl size=38863 sha256=9cf0314346332eb493dacdd1c7b421a9103232115ff98206496d1109ca1cffe6\n",
            "  Stored in directory: /tmp/pip-ephem-wheel-cache-466oadng/wheels/4f/3b/75/62d04b3b446658ba85401e8868d3cd1d4bc22f17ad755460a6\n",
            "Successfully built twint\n",
            "Installing collected packages: twint\n",
            "\u001b[33m  WARNING: The script twint is installed in '/root/.local/bin' which is not on PATH.\n",
            "  Consider adding this directory to PATH or, if you prefer to suppress this warning, use --no-warn-script-location.\u001b[0m\n",
            "Successfully installed twint-2.1.21\n"
          ],
          "name": "stdout"
        },
        {
          "output_type": "display_data",
          "data": {
            "application/vnd.colab-display-data+json": {
              "pip_warning": {
                "packages": [
                  "twint"
                ]
              }
            }
          },
          "metadata": {
            "tags": []
          }
        }
      ]
    },
    {
      "cell_type": "markdown",
      "metadata": {
        "id": "xzKacCAaUqpa"
      },
      "source": [
        "To further understand the  twint package, here is  a link to its github [https://github.com/twintproject/twint]. The greatet strenght of this package was its unlimited access to tweets but that has changed over the years. Now, the maximum ammount of tweets that can be scrape is  a 100. I was able to add more rows by running the code over and over again each time using another keyword relating to the topic that i wanted to scrape."
      ]
    },
    {
      "cell_type": "code",
      "metadata": {
        "colab": {
          "base_uri": "https://localhost:8080/"
        },
        "id": "kpyAML_LCDG0",
        "outputId": "56096f21-0501-41d1-c87a-7cebd16f4ffc"
      },
      "source": [
        "c.Limit = 100 # set the limit to 100, that is the maximum that it\n",
        "c.Search = 'stop killing women sudan' # please inset the keyword that you want to search on here\n",
        "c.Store_json=True # It is better to first save to javascript than directly to csv, trust me on this\n",
        "c.Output = 'Twitter.json' #This would be where the data will be store. Use whatever name you want\n",
        "nest_asyncio.apply() #Apply nest_asycio\n",
        "twint.run.Search(c) # run your search"
      ],
      "execution_count": null,
      "outputs": [
        {
          "output_type": "stream",
          "text": [
            "1392274677163233283 2021-05-12 00:25:24 +0000 <SudanPride> Stop discrimination against black Africa people in Egypt. Stop killing people from South Sudan and Sudan in Egypt. Stop bullying the people from South Sudan and Sudan in Egypt. Stop rape against black Africa women in Egypt\n",
            "1387159862480625664 2021-04-27 21:40:58 +0000 <christinangozi1> @ZbcMr @lordbila001 @MaziNnamdiKanu You should take your Buhari and go back to Sudan where all you bastards came from. You guys are ruining your so called Nigeria. The senseless killing of innocent Christians, women and children must stop. How can a person be a slave in their own country while the immigrants?😭😭😭\n",
            "1376096836663001090 2021-03-28 09:00:27 +0000 <MuneerQ68188905> @AyaIsleemEn @BeingJovial @UN  no one dare to stop Israel doing so as Palestinians are Muslims, South Sudan &amp; East Taimore got independence in a matter of days BECAUSE they are Christians, same is happening with Kashmiris in Indian occupied Kashmir where Indian Army is raping killing children women\n",
            "1367175097098862597 2021-03-03 18:08:38 +0000 <Belay_ZX> @AbiyAhmed is trying to pretend he is a man of peace when it comes to Sudan while raining bombs over defenseless children and women in a region he claims part of #Ethiopia. @UNSC stop the senseless killing that is going on in @Tigray. @JoeBiden time to take  action now.\n",
            "1359532833233059843 2021-02-10 16:01:00 +0000 <UgChange> If UPDF can treat their fellow country men and women in such a way, what have they done to people of Somalia and Sudan where they have been???????? #WeAreRemovingADictatorM7 @UPDFspokespersn @PoliceUg @HouseofCommons @UKParliament @UN Museveni Stop kidnapping and killing Ugandans  https://t.co/N3cTpj6Ttv\n",
            "1350319475552264195 2021-01-16 05:50:25 +0000 <a_teddiyo> 58K+ #Tigray|ans fled to #Sudan to run away from brutality of #Eritrean &amp; #Ethiopian army who were killing many young men and women just because they are #Tigray|ans.  We kindly ask #BidenTakeAction to spare the lives of many and stop #TigrayGenocide.  https://t.co/QSyjsrmZmF\n",
            "1349702654046466050 2021-01-14 12:59:23 +0000 <hamidkisha> @SuleimanDedefo Stop your fucking thugs from killing sudanese women and children. I am astonished at the way Ethiopian diplomats talking about Sudan. Do you think you're masters and we are your slaves!!!!? Fucking amharic nationalist\n",
            "1348474649059995648 2021-01-11 03:39:44 +0000 <TagTes> #AbiyAhmed killing and starving millions of people in Tigray. He has blocked access to media to hide his crimes. #Abiy rather have his country invaded by Sudan and Eritrea than stop starving Tigray, destroy factories and killing women &amp; children. #StopWarOnTigray #TigrayGenocide\n",
            "1340728064523694080 2020-12-20 18:37:34 +0000 <gehremariam> It's Still ongoing Genocide and Bombing on tigray region a lot of innocent civilian they are trying to Skipping from small Town sheraro crossing to Sudan the Amhara Fano and Melsha killed innocent women and children We have full evidenced stop killing innocent civilian Abiy Ahmed  https://t.co/EWGkewuR6o\n",
            "1336854121823969280 2020-12-10 02:03:54 +0000 <mulutesfay7> Mr. Secretary, it’s not too late to stop this. The dictator Abiy, tyrant leader of Eritrea Isaias Afwerki, and UAE — all of their army in Tigray are killing the people there. Women are being raped and children are being killed right this second at the border of Tigray and Sudan.\n",
            "1334538250875260928 2020-12-03 16:41:28 +0000 <Lily_Tigray> @AbiyAhmedAli told he's stop the war but he's bombing Tigray, told the world it's internal affair but 🇪🇷 is killing our ppl, he told no children and women fled 2 Sudan but majorities r children &amp; women. Y is the world pretending as if nothing happened\n",
            "1334453416769191942 2020-12-03 11:04:22 +0000 <HelenMeresa> @AbiyAhmedAli  has lies never ends that he said there was only young boys &amp;men’s that run way to Sudan as refugees  however must of those innocent civilians that are refugees in Sudan are children,women’s@AbiyAhmedAli stop lying &amp;stop killing innocent civilians #StopWarOnTigray\n",
            "1331086183699521537 2020-11-24 04:04:11 +0000 <Tigray21> #StopGenocideInTigray  @AbiyAhmedAli +the dictator Ertria gov't &amp; #UAE Drone from #Massawa (#Ertria) are killing civilians, change cities to ash, rape women and around 40,000 cross to sudan. #stop the war. @UN @hrw @EuropeanUnion36 @wallacemick  https://t.co/lCiVCeDWNS\n",
            "1330782610642128896 2020-11-23 07:57:53 +0000 <albirhane> @IvankaTrump Please urge your dad,to stop @AbiyAhmedAli from killing civilians in #Tigray ,Ethiopia. Women and children are being bombed and 10s of 1000s of them have fled to Sudan.What do you think Mr. Trump's response would be when you &amp;your kids, God forbid, are in a War Zone?\n",
            "1329810346111086595 2020-11-20 15:34:27 +0000 <Olive11147566> @JonasMbabazi1 You museveni's goons why don't talk about M7 &amp; his son muhozi killing innocent Ugandans?  Is it b'se you are all from Rwanda? Please Ugandans lives also matters those policemen &amp; police women you brought from Rwanda, Congo &amp; Sudan to come &amp; kill Ugandans stop it please.\n",
            "1224919701630918656 2020-02-05 04:56:29 +0000 <Odinhaba> @UN_Women I want you to stop Afghanistan, Brunei, Mauritania, Nigeria, Pakistan, Quatar, Saudi Arabia, Somalia, Sudan, the United Arab Emirates, and Yemen from killing gay people.\n",
            "1222750221287018496 2020-01-30 05:15:45 +0000 <AhmadFawadEhsa1> Let's make a better place our world for living # peace# for Afghanistan, Yaman, Syria , Iraq , Palestine, Ukrain , Sudan and other parts of the world.  Let's stop killing of innocent people like # children # women and elders. # Peace #\n",
            "1145229615310544898 2019-06-30 07:16:32 +0000 <Ahmed3bdu> June 30 march calls for a civilian-led government. The notorious junta must stop killing people and raping women. We need peace and stability in Sudan that only civil govt can have it happen. The TMC must go.  #StandWithSudan #مليونية30يونيو\n",
            "1144898857605697536 2019-06-29 09:22:13 +0000 <MakNasir> ⁦@HHShkMohd76⁩ @SpeakerPelosi ⁦@AsstSecStateAF⁩  Sudan Revolution needs your help. Either stop supporting Janjaweed (UAE and KSA) or stop them from killing the innocent and raping women  https://t.co/NfLinIfAZa\n",
            "1144898323398168581 2019-06-29 09:20:06 +0000 <MakNasir> ⁦@HHShkMohd⁩ ⁦@SpeakerPelosi⁩ ⁦@AsstSecStateAF⁩ Sudan Revolution needs your help. Either stop supporting Janjaweed (UAE and KSA) it stop them from killing the innocent and raping women  https://t.co/9yHSYA7Hsp\n",
            "1141282911720751104 2019-06-19 09:53:44 +0000 <geraldngaopk> Sudan Revolution Should Stop.  I'm not saying this  Because I'm a coward But I'm thinking of the lives That we lose every time we fight Killing innocent people Women and children Yeah- Lucky Philip Dube  #IAmTheSudanRevolution  https://t.co/j3gAV92dxt\n",
            "1140574091239415809 2019-06-17 10:57:08 +0000 <HarisSajidh> Sudan 🇸🇸 needs us badly. they're killing people at random they're arresting ppl for walking 🏃 in the streets. They're raping women 👵 at insane numbers, they're looting ppl and stop civilians from accessing the Internet. #WeStandWithSudan  #Sudan_massacre\n",
            "1140573352643452928 2019-06-17 10:54:12 +0000 <IchBinGhani> Sudan 🇸🇸 needs us badly. they're killing people at random they're arresting ppl for walking 🏃 in the streets. They're raping women 👵 at insane numbers, they're looting ppl and stop civilians from accessing the Internet. #WeStandWithSudan  #Sudan_massacre  https://t.co/nTum4DkGJm\n",
            "1140123818545033216 2019-06-16 05:07:55 +0000 <iainamorrison> Ongoing horrors coming out of #Sudan as paramilitary forces raided an encampment of protesters last week, killing more than 100 people, #raping dozens of women and injuring hundreds of others. Only USA could stop this\n",
            "1139659071152427009 2019-06-14 22:21:11 +0000 <eha_news> 📷 | Protest against #SaudiArabia, #UAE and #Egypt in #Sweden  The #Sudan|ese youth has demonstrated against the involvement of S.Arabia, UAE and Egypt in their country  They demanded them \"to back off and stop supporting RSF who are killing protesters and raping women\"  https://t.co/ozg0nRZ7BK\n",
            "1139636080892895232 2019-06-14 20:49:49 +0000 <its_IAK> I think ppl don't know about #SudanMassacre.  What the hell in #Sudan? No law justice &amp; order.  Stop Killing Children,  Men &amp; Women. Stop Rape.  Stop Terrorism.  Save Man Kind.  Save Humanity.\n",
            "1139346505817571328 2019-06-14 01:39:09 +0000 <its_IAK> #SudanMassacre haunt &amp; wounded me beyond words. Stop Killing Children, Men &amp; Women. Stop Rape, Stop Terrorism, Stop Crime, Stop Everything in #Sudan. Shame On You Sudan Army, The Government of Sudan, Politicians of Sudan, Mother Fuckers of Sudan, Anti-Nationalists of Sudan.\n",
            "1139043824750276608 2019-06-13 05:36:24 +0000 <MXI24_> It started as a peaceful protest. Just before Eid shooting and killing innocent people took place. It did not stop their, Sudan gov. sexually assaulted women, men children during internet shutdown! Internet is still down in Sudan, but we can do a lot to raise awareness.#Sudan\n",
            "1138954487756972033 2019-06-12 23:41:25 +0000 <iamlujja> Praying for the People Of Sudan, Civilians killed, children injured, women and girls raped, people killing one another. NO PEACE ✌🏿WHERE IS THE LOVE ❤️. LOVE IS ALL WE NEED.😭😭😭😭😭  STOP THE KILLING IN SUDAN.  Let’s retweet 🙌🏿🙌🏿🙌🏿🙌🏿.  https://t.co/GDb2aCmGqe\n",
            "1138936715123539968 2019-06-12 22:30:47 +0000 <BeautyLycia> @AJABreaking @AJArabic #SudanMassacre Sudan is under massacre people are being killed, women and kids are being raped. And the media didn't say shit about it. Show them support. SPEAK UP FOR THEM. THE KILLING MUST STOP #helpsudan\n",
            "1138936417999106050 2019-06-12 22:29:37 +0000 <BeautyLycia> @katyperry @Snapchat #SudanMassacre Sudan is under massacre people are being killed, women and kids are being raped. And the media didn't say shit about it. Show them support. SPEAK UP FOR THEM. THE KILLING MUST STOP #helpsudan\n",
            "1138936374495797248 2019-06-12 22:29:26 +0000 <BeautyLycia> @joejonas @FallonTonight @jonasbrothers #SudanMassacre Sudan is under massacre people are being killed, women and kids are being raped. And the media didn't say shit about it. Show them support. SPEAK UP FOR THEM. THE KILLING MUST STOP #helpsudan\n",
            "1138896212697014272 2019-06-12 19:49:51 +0000 <Xwadh> #Sudan The world must stop killing children, women and innocents. The worst affected are the only oppressed in this case. The world is very ugly and unjust.  https://t.co/IzdSWTHhFe\n",
            "1137881769770967041 2019-06-10 00:38:49 +0000 <lana21907603> #pray_for_sudan#STOP_killing_people_in_sudan#STOP_raping_women_in_sudan#sudan_revolution_2019🇸🇩\n",
            "1136651529862168577 2019-06-06 15:10:17 +0000 <BashaSudan> Stop killing our peoplein Sudan.. The are innocent kids ,women and old men...\n",
            "1135555362596249600 2019-06-03 14:34:30 +0000 <FemnetProg> Stop the Massacre NOW! #SudanProtests #SilenceTheGuns Women and girls in Africa are really saddened &amp; outraged with the rising injustice and brutal attacks and killing of unarmed protesters in Sudan. #SudanUprising #SudanUprisingSolidarity  https://t.co/PcKuijmLgi\n",
            "1135467050355367937 2019-06-03 08:43:35 +0000 <FathalrahmanS> @POTUS  Mr. President,  please intervene to stop the killing that is taking place in Sudan for the lives of young men &amp; women who are demonstrating peacefully since December\n",
            "1135465985727696898 2019-06-03 08:39:21 +0000 <FathalrahmanS> @realDonaldTrump  Please intervene to stop the killing that is taking place in Sudan for the lives of young men &amp; women who are demonstrating peacefully since December\n",
            "1135465134497964032 2019-06-03 08:35:58 +0000 <FathalrahmanS> @WhiteHouse  Please intervene to stop the killing that is taking place in Sudan for the  young men &amp; women who are demonstrating peacefully since December\n",
            "1114300214935019520 2019-04-05 22:54:08 +0000 <hbashirh> Proud of Sudanese women, theybate leading and on the frontlines against the👌👌👌 #Dictatorship regime #sudanuprising #موكب6ابريل #مدن_السودان_تنتفض  @CBCNews  @AssociationSd @MAbubakrs @Moez_Ibra @nytimes @CTVNews #stop_killing_protesters_in_Sudan\n",
            "1109246662243991552 2019-03-23 00:13:07 +0000 <DianeKrief> #UN_HRC   L I E S under cover of the word  RIGHTS :  It has ABSOLUTELY --  \"NO\"  #humanrights standards   #Sudan #DARFOUR : STOP KILLING THE  WOMEN AND CHILDREN  #presse #Shame #Massacre because #UNHRC #UN #African  S I L E N C E\n",
            "1098562873318666242 2019-02-21 12:39:33 +0000 <Yousif46727100> We are 💪 more than ever, it's our time to end this bloody #genocidal #regime and enjoy our well deserved #Freedom  #Peace #Justice killing rapping women men and children and other horrific crimes against humanity has to #Stop #SudanUprising  #Sudan_Revolts  #SudanProtests\n",
            "1077965681176600578 2018-12-26 16:33:40 +0000 <sabahelshiekh> When it gos down..we women manup..they say stay down and we stand up✊ One day..when the glory comes It will be ours..it will be ours #مدن السودان تنتفض  #مدن_السودان_تنفض  #stop_shooting_protesters_in_sudan  #stop_killing_protesters_in_sudan #Sudan_revolts  #SudanUprsing\n",
            "1076696621516312576 2018-12-23 04:30:53 +0000 <gizoulia> \"The thing we are here to ask, its a very simple thing , is for the government in Khartoum to stop randomly killing its own innocent men, women and children. Stop raping them and stop starving them. That's all we ask\"  - #GeorgeClooney (March 2012) #Sudan   https://t.co/LBZTh8YAsV\n",
            "1051245366853726208 2018-10-13 22:56:41 +0000 <SEARCHTRUEPEAC1> Saudi Arabia USA Israel are committing war crime atrocities and crimes against humanity in Syria Libya Yemen Somalia Sudan Afghanistan Palestine by exterminating the innocent civilians including women &amp; children. STOP KILLING CIVILIANS IN NAME OF TERRORIST  https://t.co/eDM3iPrxFK\n",
            "1050802531759218688 2018-10-12 17:37:01 +0000 <alshaeri32> @SAJ_FREE_SPIRIT @KenRoth Do you want me to tell you who supported the killing of children and womens in Syria. And who killed them in Libya. And who supporting terrorism in somalia, sudan and africa. Qatar supported all this. So stop talking about something do not know what it means.\n",
            "1044668794956861440 2018-09-25 19:23:44 +0000 <glorineawuor> This thing of killing the man for dating should stop. South Sudan  Ethiopia Somalia countries near us have seen what they do to our men when they date their women.  And do they do here\n",
            "911647449491607554 2017-09-23 17:44:24 +0000 <HarounWatakila> @igadsecretariat the war in Sudan,  Burundi is killing development is those, killing of innocent Women and Children should stop.\n",
            "773213845921918981 2016-09-06 17:38:41 +0000 <VinaigretteGirl> Oh, South Sudan. If only yr arms-bearers would stop their own colleagues fr killing yr women &amp; children as 1st step.  https://t.co/CIOcvVOI3y\n",
            "472987534600175616 2014-06-01 06:26:30 +0000 <LoudenStudio> Sudan, India &amp; Pakistan: can you please stop killing women? What is wrong with you?  http://t.co/vfV5vrvQOk  http://t.co/3PHaYhn2q5\n",
            "472788443852861440 2014-05-31 17:15:23 +0000 <ProducrGrl> Stop killing women in Sudan because of religion!  http://t.co/81dfebrFTZ\n",
            "472467520117825539 2014-05-30 20:00:09 +0000 <georgemwaki> @georgemwaki  #bokoharam release those girls! #India stop raping and killing girls! #Pakistan and Sudan stop killing women!\n",
            "467794210729771011 2014-05-17 22:30:05 +0000 <auraforrefugees> Refugee Women in South Sudan: 'Stop the Killing'  http://t.co/qtJV2pgzTK\n",
            "467696210816823296 2014-05-17 16:00:40 +0000 <howfund> Refugee Women in South Sudan: 'Stop the Killing' | Womens eNews  http://t.co/LaITPez5tM\n",
            "467569562645311488 2014-05-17 07:37:25 +0000 <Honingpot> Stop Sudan from hanging pregnant woman  http://t.co/SEGWiaeNUt stop sudan aggression against christians killing women\n",
            "467025794619801600 2014-05-15 19:36:41 +0000 <JanaChrz> Refugee Women in South Sudan: Stop the Killing | Womens eNews  http://t.co/Z8F3IWzoHT\n",
            "466949175201247233 2014-05-15 14:32:13 +0000 <Womens_eNews> \"But stop, stop killing the women and children.\" - Angelina, a refugee living in South Sudan  http://t.co/2ahqaQVP2R  http://t.co/xIfQlWn64K\n",
            "466946385859063808 2014-05-15 14:21:08 +0000 <Womens_eNews> Refugee Women in South Sudan: 'Stop the Killing'  http://t.co/2ahqaQVP2R via @concern\n",
            "466939595720912896 2014-05-15 13:54:09 +0000 <Corinna_Barnard> Refugee Women in South Sudan: 'Stop the Killing' | Womens eNews:  http://t.co/4rx4wCC5TF\n",
            "466906205651083265 2014-05-15 11:41:28 +0000 <clairebangasser> Refugee Women in South Sudan: 'Stop the Killing' | Womens eNews:  http://t.co/Izj08tSg1x\n",
            "466899113976422400 2014-05-15 11:13:17 +0000 <TheKillingnews> Refugee Women in South Sudan: 'Stop the Killing' - Women's eNews  http://t.co/EIogIr9iG5\n",
            "466897186593054720 2014-05-15 11:05:38 +0000 <danwibg> Refugee #Women in South Sudan: 'Stop the Killing' | Womens eNews:  http://t.co/PQDuBD88rK #SouthSudan\n",
            "463782177927208961 2014-05-06 20:47:42 +0000 <1warmicha> Hi, please stop the killing of women children and man in south sudan Victor Barahona m.D., Master, Inventor, Writer\n",
            "463780902921723904 2014-05-06 20:42:38 +0000 <1warmicha> Dear sir  help to stop the killing in south sudan ,children, women, man are murder  thank you victor barahona M.D., Master, Inventor, writer\n",
            "460494951923875840 2014-04-27 19:05:26 +0000 <richard_mapesa> @cobbo3 : Uganda Military Stop fooling the world ! it is UPDF which was hired out to Salva Kiir,now killing &amp; raping women in S.Sudan\n",
            "456461726809346048 2014-04-16 15:58:50 +0000 <richard_mapesa> @chimpreports Akunda stop fooling the world ! Museveni killed John Granga &amp; now UPDF is killing civilians women &amp; children in S.Sudan.\n",
            "432618037326266368 2014-02-09 20:52:32 +0000 <orikape2> We need peace now ! STOP   killing   fellow country men and  women because  of power.  God Bless South Sudan\n",
            "426661001313153024 2014-01-24 10:21:24 +0000 <keziehelen> The message of women of South Sudan is 'We want peace, stop the killing and fighting' @IsisWICCE #GIMAC23\n",
            "417986111290368000 2013-12-31 11:50:29 +0000 <richard_mapesa> @sudanmonitor : Museveni is an opportunist MUST STOP killing women &amp; children in S.Sudan. It was Uganda Army plane that boomed Borr town .\n",
            "325303877136154624 2013-04-19 17:44:22 +0000 <sudan_news> Africa Three Steps to Stop Kitchen Smoke From Killing More Women and Children  http://t.co/l6qrhCde4O\n",
            "301123943144763394 2013-02-12 00:21:57 +0000 <goldlis> RT @IFFRAS: IFFRAS calls on govt of #Sudan 2 stop the killing in #Darfur &amp; help IDP returnees–particularly women &amp; children – &amp; end impunity\n",
            "301098788553121792 2013-02-11 22:41:59 +0000 <IFFRAS> IFFRAS calls on government of #Sudan to stop the killing in #Darfur &amp; help IDP returnees – particularly women and children – &amp; end impunity\n",
            "180688666048475136 2012-03-16 16:15:09 +0000 <clairesy95> @Cuba___ he was arrested today because he protested in washington for sudan and for the men to stop killing and raping women and children!\n",
            "165215237132398592 2012-02-02 23:29:16 +0000 <IJP_Media> Take action to stop the killing of men, women, and children in the Blue Nile and Kordofan regions of Sudan. Join...  http://t.co/tQD1w0HS\n",
            "18469555647029249 2010-12-25 00:54:19 +0000 <Kristen_Dior89> #AllIwantforChristmas is for women in the Sudan to stop having babies and for ppl in China to stop killing female babies.\n",
            "[!] No more data! Scraping will stop now.\n",
            "found 0 deleted tweets in this search.\n"
          ],
          "name": "stdout"
        }
      ]
    },
    {
      "cell_type": "markdown",
      "metadata": {
        "id": "m8-zNcJyM6T-"
      },
      "source": [
        ""
      ]
    },
    {
      "cell_type": "code",
      "metadata": {
        "id": "gpmR3_3vCd4u"
      },
      "source": [
        "#import pandas\n",
        "import pandas as pd\n",
        "# read the json file\n",
        "data =pd.read_json('Twitter.json',lines=True)"
      ],
      "execution_count": null,
      "outputs": []
    },
    {
      "cell_type": "code",
      "metadata": {
        "colab": {
          "base_uri": "https://localhost:8080/"
        },
        "id": "1hemTNBqFRJP",
        "outputId": "bcf46438-5f9f-4b8f-d50d-65aef51d7252"
      },
      "source": [
        "data.shape  # you can hech the shape of your dataframe"
      ],
      "execution_count": null,
      "outputs": [
        {
          "output_type": "execute_result",
          "data": {
            "text/plain": [
              "(8182, 36)"
            ]
          },
          "metadata": {
            "tags": []
          },
          "execution_count": 638
        }
      ]
    },
    {
      "cell_type": "code",
      "metadata": {
        "colab": {
          "base_uri": "https://localhost:8080/",
          "height": 469
        },
        "id": "X6xQUfjCFlMD",
        "outputId": "68538c2c-b394-4555-fc53-ba4b063e9ebd"
      },
      "source": [
        "data.tail()"
      ],
      "execution_count": null,
      "outputs": [
        {
          "output_type": "execute_result",
          "data": {
            "text/html": [
              "<div>\n",
              "<style scoped>\n",
              "    .dataframe tbody tr th:only-of-type {\n",
              "        vertical-align: middle;\n",
              "    }\n",
              "\n",
              "    .dataframe tbody tr th {\n",
              "        vertical-align: top;\n",
              "    }\n",
              "\n",
              "    .dataframe thead th {\n",
              "        text-align: right;\n",
              "    }\n",
              "</style>\n",
              "<table border=\"1\" class=\"dataframe\">\n",
              "  <thead>\n",
              "    <tr style=\"text-align: right;\">\n",
              "      <th></th>\n",
              "      <th>id</th>\n",
              "      <th>conversation_id</th>\n",
              "      <th>created_at</th>\n",
              "      <th>date</th>\n",
              "      <th>time</th>\n",
              "      <th>timezone</th>\n",
              "      <th>user_id</th>\n",
              "      <th>username</th>\n",
              "      <th>name</th>\n",
              "      <th>place</th>\n",
              "      <th>tweet</th>\n",
              "      <th>language</th>\n",
              "      <th>mentions</th>\n",
              "      <th>urls</th>\n",
              "      <th>photos</th>\n",
              "      <th>replies_count</th>\n",
              "      <th>retweets_count</th>\n",
              "      <th>likes_count</th>\n",
              "      <th>hashtags</th>\n",
              "      <th>cashtags</th>\n",
              "      <th>link</th>\n",
              "      <th>retweet</th>\n",
              "      <th>quote_url</th>\n",
              "      <th>video</th>\n",
              "      <th>thumbnail</th>\n",
              "      <th>near</th>\n",
              "      <th>geo</th>\n",
              "      <th>source</th>\n",
              "      <th>user_rt_id</th>\n",
              "      <th>user_rt</th>\n",
              "      <th>retweet_id</th>\n",
              "      <th>reply_to</th>\n",
              "      <th>retweet_date</th>\n",
              "      <th>translate</th>\n",
              "      <th>trans_src</th>\n",
              "      <th>trans_dest</th>\n",
              "    </tr>\n",
              "  </thead>\n",
              "  <tbody>\n",
              "    <tr>\n",
              "      <th>8102</th>\n",
              "      <td>56762965927534593</td>\n",
              "      <td>56762965927534592</td>\n",
              "      <td>2011-04-09 16:58:40+00:00</td>\n",
              "      <td>2011-04-09</td>\n",
              "      <td>16:58:40</td>\n",
              "      <td>0</td>\n",
              "      <td>62073342</td>\n",
              "      <td>prattt111</td>\n",
              "      <td>Anonymous</td>\n",
              "      <td></td>\n",
              "      <td>The world must not be silent this time.Israel ...</td>\n",
              "      <td>en</td>\n",
              "      <td>[]</td>\n",
              "      <td>[]</td>\n",
              "      <td>[]</td>\n",
              "      <td>0</td>\n",
              "      <td>0</td>\n",
              "      <td>0</td>\n",
              "      <td>[gaza, saudi, syria, egypt, lebanon, jo]</td>\n",
              "      <td>[]</td>\n",
              "      <td>https://twitter.com/Prattt111/status/567629659...</td>\n",
              "      <td>False</td>\n",
              "      <td></td>\n",
              "      <td>0</td>\n",
              "      <td></td>\n",
              "      <td></td>\n",
              "      <td></td>\n",
              "      <td></td>\n",
              "      <td></td>\n",
              "      <td></td>\n",
              "      <td></td>\n",
              "      <td>[]</td>\n",
              "      <td></td>\n",
              "      <td></td>\n",
              "      <td></td>\n",
              "      <td></td>\n",
              "    </tr>\n",
              "    <tr>\n",
              "      <th>8103</th>\n",
              "      <td>33201045479886848</td>\n",
              "      <td>33201045479886848</td>\n",
              "      <td>2011-02-03 16:32:00+00:00</td>\n",
              "      <td>2011-02-03</td>\n",
              "      <td>16:32:00</td>\n",
              "      <td>0</td>\n",
              "      <td>59704715</td>\n",
              "      <td>quebagoodingjr</td>\n",
              "      <td>🇬🇾The Husky Home Wrecker🇬🇾</td>\n",
              "      <td></td>\n",
              "      <td>we went from Egypt to Violent on women to kill...</td>\n",
              "      <td>en</td>\n",
              "      <td>[]</td>\n",
              "      <td>[]</td>\n",
              "      <td>[]</td>\n",
              "      <td>0</td>\n",
              "      <td>0</td>\n",
              "      <td>0</td>\n",
              "      <td>[]</td>\n",
              "      <td>[]</td>\n",
              "      <td>https://twitter.com/QUEbaGoodingJr/status/3320...</td>\n",
              "      <td>False</td>\n",
              "      <td></td>\n",
              "      <td>0</td>\n",
              "      <td></td>\n",
              "      <td></td>\n",
              "      <td></td>\n",
              "      <td></td>\n",
              "      <td></td>\n",
              "      <td></td>\n",
              "      <td></td>\n",
              "      <td>[]</td>\n",
              "      <td></td>\n",
              "      <td></td>\n",
              "      <td></td>\n",
              "      <td></td>\n",
              "    </tr>\n",
              "    <tr>\n",
              "      <th>8104</th>\n",
              "      <td>1318247222220361730</td>\n",
              "      <td>1317536091491033088</td>\n",
              "      <td>2020-10-19 17:46:44+00:00</td>\n",
              "      <td>2020-10-19</td>\n",
              "      <td>17:46:44</td>\n",
              "      <td>0</td>\n",
              "      <td>1313149364966166530</td>\n",
              "      <td>chaymakerdawi</td>\n",
              "      <td>chaymakerdawi</td>\n",
              "      <td></td>\n",
              "      <td>@taslimanasreen when france was in tunisia , a...</td>\n",
              "      <td>en</td>\n",
              "      <td>[]</td>\n",
              "      <td>[]</td>\n",
              "      <td>[]</td>\n",
              "      <td>0</td>\n",
              "      <td>0</td>\n",
              "      <td>0</td>\n",
              "      <td>[]</td>\n",
              "      <td>[]</td>\n",
              "      <td>https://twitter.com/chaymakerdawi/status/13182...</td>\n",
              "      <td>False</td>\n",
              "      <td></td>\n",
              "      <td>0</td>\n",
              "      <td></td>\n",
              "      <td></td>\n",
              "      <td></td>\n",
              "      <td></td>\n",
              "      <td></td>\n",
              "      <td></td>\n",
              "      <td></td>\n",
              "      <td>[{'screen_name': 'taslimanasreen', 'name': 'ta...</td>\n",
              "      <td></td>\n",
              "      <td></td>\n",
              "      <td></td>\n",
              "      <td></td>\n",
              "    </tr>\n",
              "    <tr>\n",
              "      <th>8105</th>\n",
              "      <td>1266406971781058561</td>\n",
              "      <td>1266406971781058560</td>\n",
              "      <td>2020-05-29 16:32:05+00:00</td>\n",
              "      <td>2020-05-29</td>\n",
              "      <td>16:32:05</td>\n",
              "      <td>0</td>\n",
              "      <td>1125293462</td>\n",
              "      <td>ghezinou</td>\n",
              "      <td>Zine Ghebouli</td>\n",
              "      <td></td>\n",
              "      <td>17 #Algeria-n women were killed since the begi...</td>\n",
              "      <td>en</td>\n",
              "      <td>[]</td>\n",
              "      <td>[]</td>\n",
              "      <td>[]</td>\n",
              "      <td>2</td>\n",
              "      <td>5</td>\n",
              "      <td>13</td>\n",
              "      <td>[algeria]</td>\n",
              "      <td>[]</td>\n",
              "      <td>https://twitter.com/GheZinou/status/1266406971...</td>\n",
              "      <td>False</td>\n",
              "      <td>https://twitter.com/Inal_Boukhalfa/status/1266...</td>\n",
              "      <td>0</td>\n",
              "      <td></td>\n",
              "      <td></td>\n",
              "      <td></td>\n",
              "      <td></td>\n",
              "      <td></td>\n",
              "      <td></td>\n",
              "      <td></td>\n",
              "      <td>[]</td>\n",
              "      <td></td>\n",
              "      <td></td>\n",
              "      <td></td>\n",
              "      <td></td>\n",
              "    </tr>\n",
              "    <tr>\n",
              "      <th>8106</th>\n",
              "      <td>1003389438171312128</td>\n",
              "      <td>1002711640641548288</td>\n",
              "      <td>2018-06-03 21:34:18+00:00</td>\n",
              "      <td>2018-06-03</td>\n",
              "      <td>21:34:18</td>\n",
              "      <td>0</td>\n",
              "      <td>173235832</td>\n",
              "      <td>runninthetweets</td>\n",
              "      <td>JoWilliams</td>\n",
              "      <td></td>\n",
              "      <td>@ytyorobun @LileArmy @armyvotingteam @sugahyun...</td>\n",
              "      <td>en</td>\n",
              "      <td>[]</td>\n",
              "      <td>[]</td>\n",
              "      <td>[]</td>\n",
              "      <td>0</td>\n",
              "      <td>0</td>\n",
              "      <td>4</td>\n",
              "      <td>[]</td>\n",
              "      <td>[]</td>\n",
              "      <td>https://twitter.com/runninthetweets/status/100...</td>\n",
              "      <td>False</td>\n",
              "      <td></td>\n",
              "      <td>0</td>\n",
              "      <td></td>\n",
              "      <td></td>\n",
              "      <td></td>\n",
              "      <td></td>\n",
              "      <td></td>\n",
              "      <td></td>\n",
              "      <td></td>\n",
              "      <td>[{'screen_name': 'ytyorobun', 'name': 'Hajimem...</td>\n",
              "      <td></td>\n",
              "      <td></td>\n",
              "      <td></td>\n",
              "      <td></td>\n",
              "    </tr>\n",
              "  </tbody>\n",
              "</table>\n",
              "</div>"
            ],
            "text/plain": [
              "                       id      conversation_id  ... trans_src trans_dest\n",
              "8102    56762965927534593    56762965927534592  ...                     \n",
              "8103    33201045479886848    33201045479886848  ...                     \n",
              "8104  1318247222220361730  1317536091491033088  ...                     \n",
              "8105  1266406971781058561  1266406971781058560  ...                     \n",
              "8106  1003389438171312128  1002711640641548288  ...                     \n",
              "\n",
              "[5 rows x 36 columns]"
            ]
          },
          "metadata": {
            "tags": []
          },
          "execution_count": 634
        }
      ]
    },
    {
      "cell_type": "code",
      "metadata": {
        "id": "dzZcP2FaFt5P"
      },
      "source": [
        "data.to_csv('Tweets.csv') # i converted the dataframe to a csv file, this is not compulsory"
      ],
      "execution_count": null,
      "outputs": []
    },
    {
      "cell_type": "code",
      "metadata": {
        "colab": {
          "base_uri": "https://localhost:8080/",
          "height": 34
        },
        "id": "HFWB8YaKGNKQ",
        "outputId": "cacc1ad5-a520-4844-9969-e95ec3f18642"
      },
      "source": [
        "from google.colab import files\n",
        "files.download('Tweets.csv')"
      ],
      "execution_count": null,
      "outputs": [
        {
          "output_type": "display_data",
          "data": {
            "application/javascript": [
              "\n",
              "    async function download(id, filename, size) {\n",
              "      if (!google.colab.kernel.accessAllowed) {\n",
              "        return;\n",
              "      }\n",
              "      const div = document.createElement('div');\n",
              "      const label = document.createElement('label');\n",
              "      label.textContent = `Downloading \"${filename}\": `;\n",
              "      div.appendChild(label);\n",
              "      const progress = document.createElement('progress');\n",
              "      progress.max = size;\n",
              "      div.appendChild(progress);\n",
              "      document.body.appendChild(div);\n",
              "\n",
              "      const buffers = [];\n",
              "      let downloaded = 0;\n",
              "\n",
              "      const channel = await google.colab.kernel.comms.open(id);\n",
              "      // Send a message to notify the kernel that we're ready.\n",
              "      channel.send({})\n",
              "\n",
              "      for await (const message of channel.messages) {\n",
              "        // Send a message to notify the kernel that we're ready.\n",
              "        channel.send({})\n",
              "        if (message.buffers) {\n",
              "          for (const buffer of message.buffers) {\n",
              "            buffers.push(buffer);\n",
              "            downloaded += buffer.byteLength;\n",
              "            progress.value = downloaded;\n",
              "          }\n",
              "        }\n",
              "      }\n",
              "      const blob = new Blob(buffers, {type: 'application/binary'});\n",
              "      const a = document.createElement('a');\n",
              "      a.href = window.URL.createObjectURL(blob);\n",
              "      a.download = filename;\n",
              "      div.appendChild(a);\n",
              "      a.click();\n",
              "      div.remove();\n",
              "    }\n",
              "  "
            ],
            "text/plain": [
              "<IPython.core.display.Javascript object>"
            ]
          },
          "metadata": {
            "tags": []
          }
        },
        {
          "output_type": "display_data",
          "data": {
            "application/javascript": [
              "download(\"download_1ef4c8f9-d83e-4dd4-b59b-ac9007b0e9bd\", \"Twits.csv\", 5450174)"
            ],
            "text/plain": [
              "<IPython.core.display.Javascript object>"
            ]
          },
          "metadata": {
            "tags": []
          }
        }
      ]
    },
    {
      "cell_type": "code",
      "metadata": {
        "id": "s1iy2QJoGqnT"
      },
      "source": [
        ""
      ],
      "execution_count": null,
      "outputs": []
    }
  ]
}